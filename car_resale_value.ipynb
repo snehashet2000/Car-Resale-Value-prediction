{
 "cells": [
  {
   "cell_type": "code",
   "execution_count": 1,
   "metadata": {},
   "outputs": [],
   "source": [
    "import pandas as pd\n",
    "import numpy as np\n",
    "import matplotlib.pyplot as plt\n",
    "import pickle\n",
    "from sklearn.preprocessing import LabelEncoder\n",
    "from sklearn.model_selection import train_test_split, cross_val_score\n",
    "from sklearn.ensemble import RandomForestRegressor\n",
    "from sklearn.metrics import r2_score"
   ]
  },
  {
   "cell_type": "code",
   "execution_count": 2,
   "metadata": {},
   "outputs": [
    {
     "name": "stderr",
     "output_type": "stream",
     "text": [
      "C:\\Users\\sanja\\AppData\\Local\\Packages\\PythonSoftwareFoundation.Python.3.7_qbz5n2kfra8p0\\LocalCache\\local-packages\\Python37\\site-packages\\IPython\\core\\interactiveshell.py:3457: DtypeWarning: Columns (11) have mixed types.Specify dtype option on import or set low_memory=False.\n",
      "  exec(code_obj, self.user_global_ns, self.user_ns)\n"
     ]
    }
   ],
   "source": [
    "df=pd.read_csv('autos.csv',header=0,sep=',',encoding='Latin1')"
   ]
  },
  {
   "cell_type": "code",
   "execution_count": 3,
   "metadata": {},
   "outputs": [
    {
     "data": {
      "text/html": [
       "<div>\n",
       "<style scoped>\n",
       "    .dataframe tbody tr th:only-of-type {\n",
       "        vertical-align: middle;\n",
       "    }\n",
       "\n",
       "    .dataframe tbody tr th {\n",
       "        vertical-align: top;\n",
       "    }\n",
       "\n",
       "    .dataframe thead th {\n",
       "        text-align: right;\n",
       "    }\n",
       "</style>\n",
       "<table border=\"1\" class=\"dataframe\">\n",
       "  <thead>\n",
       "    <tr style=\"text-align: right;\">\n",
       "      <th></th>\n",
       "      <th>dateCrawled</th>\n",
       "      <th>name</th>\n",
       "      <th>seller</th>\n",
       "      <th>offerType</th>\n",
       "      <th>price</th>\n",
       "      <th>abtest</th>\n",
       "      <th>vehicleType</th>\n",
       "      <th>yearOfRegistration</th>\n",
       "      <th>gearbox</th>\n",
       "      <th>powerPS</th>\n",
       "      <th>model</th>\n",
       "      <th>kilometer</th>\n",
       "      <th>monthOfRegistration</th>\n",
       "      <th>fuelType</th>\n",
       "      <th>brand</th>\n",
       "      <th>notRepairedDamage</th>\n",
       "      <th>dateCreated</th>\n",
       "      <th>nrOfPictures</th>\n",
       "      <th>postalCode</th>\n",
       "      <th>lastSeen</th>\n",
       "    </tr>\n",
       "  </thead>\n",
       "  <tbody>\n",
       "    <tr>\n",
       "      <th>0</th>\n",
       "      <td>24-03-2016 11:52</td>\n",
       "      <td>Golf_3_1.6</td>\n",
       "      <td>privat</td>\n",
       "      <td>Angebot</td>\n",
       "      <td>480.0</td>\n",
       "      <td>test</td>\n",
       "      <td>NaN</td>\n",
       "      <td>1993.0</td>\n",
       "      <td>manuell</td>\n",
       "      <td>0.0</td>\n",
       "      <td>golf</td>\n",
       "      <td>150000</td>\n",
       "      <td>0.0</td>\n",
       "      <td>benzin</td>\n",
       "      <td>volkswagen</td>\n",
       "      <td>NaN</td>\n",
       "      <td>24-03-2016 00:00</td>\n",
       "      <td>0.0</td>\n",
       "      <td>70435.0</td>\n",
       "      <td>07-04-2016 03:16</td>\n",
       "    </tr>\n",
       "    <tr>\n",
       "      <th>1</th>\n",
       "      <td>24-03-2016 10:58</td>\n",
       "      <td>A5_Sportback_2.7_Tdi</td>\n",
       "      <td>privat</td>\n",
       "      <td>Angebot</td>\n",
       "      <td>18300.0</td>\n",
       "      <td>test</td>\n",
       "      <td>coupe</td>\n",
       "      <td>2011.0</td>\n",
       "      <td>manuell</td>\n",
       "      <td>190.0</td>\n",
       "      <td>NaN</td>\n",
       "      <td>125000</td>\n",
       "      <td>5.0</td>\n",
       "      <td>diesel</td>\n",
       "      <td>audi</td>\n",
       "      <td>ja</td>\n",
       "      <td>24-03-2016 00:00</td>\n",
       "      <td>0.0</td>\n",
       "      <td>66954.0</td>\n",
       "      <td>07-04-2016 01:46</td>\n",
       "    </tr>\n",
       "    <tr>\n",
       "      <th>2</th>\n",
       "      <td>14-03-2016 12:52</td>\n",
       "      <td>Jeep_Grand_Cherokee_\"Overland\"</td>\n",
       "      <td>privat</td>\n",
       "      <td>Angebot</td>\n",
       "      <td>9800.0</td>\n",
       "      <td>test</td>\n",
       "      <td>suv</td>\n",
       "      <td>2004.0</td>\n",
       "      <td>automatik</td>\n",
       "      <td>163.0</td>\n",
       "      <td>grand</td>\n",
       "      <td>125000</td>\n",
       "      <td>8.0</td>\n",
       "      <td>diesel</td>\n",
       "      <td>jeep</td>\n",
       "      <td>NaN</td>\n",
       "      <td>14-03-2016 00:00</td>\n",
       "      <td>0.0</td>\n",
       "      <td>90480.0</td>\n",
       "      <td>05-04-2016 12:47</td>\n",
       "    </tr>\n",
       "    <tr>\n",
       "      <th>3</th>\n",
       "      <td>17-03-2016 16:54</td>\n",
       "      <td>GOLF_4_1_4__3TÜRER</td>\n",
       "      <td>privat</td>\n",
       "      <td>Angebot</td>\n",
       "      <td>1500.0</td>\n",
       "      <td>test</td>\n",
       "      <td>kleinwagen</td>\n",
       "      <td>2001.0</td>\n",
       "      <td>manuell</td>\n",
       "      <td>75.0</td>\n",
       "      <td>golf</td>\n",
       "      <td>150000</td>\n",
       "      <td>6.0</td>\n",
       "      <td>benzin</td>\n",
       "      <td>volkswagen</td>\n",
       "      <td>nein</td>\n",
       "      <td>17-03-2016 00:00</td>\n",
       "      <td>0.0</td>\n",
       "      <td>91074.0</td>\n",
       "      <td>17-03-2016 17:40</td>\n",
       "    </tr>\n",
       "    <tr>\n",
       "      <th>4</th>\n",
       "      <td>31-03-2016 17:25</td>\n",
       "      <td>Skoda_Fabia_1.4_TDI_PD_Classic</td>\n",
       "      <td>privat</td>\n",
       "      <td>Angebot</td>\n",
       "      <td>3600.0</td>\n",
       "      <td>test</td>\n",
       "      <td>kleinwagen</td>\n",
       "      <td>2008.0</td>\n",
       "      <td>manuell</td>\n",
       "      <td>69.0</td>\n",
       "      <td>fabia</td>\n",
       "      <td>90000</td>\n",
       "      <td>7.0</td>\n",
       "      <td>diesel</td>\n",
       "      <td>skoda</td>\n",
       "      <td>nein</td>\n",
       "      <td>31-03-2016 00:00</td>\n",
       "      <td>0.0</td>\n",
       "      <td>60437.0</td>\n",
       "      <td>06-04-2016 10:17</td>\n",
       "    </tr>\n",
       "  </tbody>\n",
       "</table>\n",
       "</div>"
      ],
      "text/plain": [
       "        dateCrawled                            name  seller offerType  \\\n",
       "0  24-03-2016 11:52                      Golf_3_1.6  privat   Angebot   \n",
       "1  24-03-2016 10:58            A5_Sportback_2.7_Tdi  privat   Angebot   \n",
       "2  14-03-2016 12:52  Jeep_Grand_Cherokee_\"Overland\"  privat   Angebot   \n",
       "3  17-03-2016 16:54              GOLF_4_1_4__3TÜRER  privat   Angebot   \n",
       "4  31-03-2016 17:25  Skoda_Fabia_1.4_TDI_PD_Classic  privat   Angebot   \n",
       "\n",
       "     price abtest vehicleType  yearOfRegistration    gearbox  powerPS  model  \\\n",
       "0    480.0   test         NaN              1993.0    manuell      0.0   golf   \n",
       "1  18300.0   test       coupe              2011.0    manuell    190.0    NaN   \n",
       "2   9800.0   test         suv              2004.0  automatik    163.0  grand   \n",
       "3   1500.0   test  kleinwagen              2001.0    manuell     75.0   golf   \n",
       "4   3600.0   test  kleinwagen              2008.0    manuell     69.0  fabia   \n",
       "\n",
       "  kilometer  monthOfRegistration fuelType       brand notRepairedDamage  \\\n",
       "0    150000                  0.0   benzin  volkswagen               NaN   \n",
       "1    125000                  5.0   diesel        audi                ja   \n",
       "2    125000                  8.0   diesel        jeep               NaN   \n",
       "3    150000                  6.0   benzin  volkswagen              nein   \n",
       "4     90000                  7.0   diesel       skoda              nein   \n",
       "\n",
       "        dateCreated  nrOfPictures  postalCode          lastSeen  \n",
       "0  24-03-2016 00:00           0.0     70435.0  07-04-2016 03:16  \n",
       "1  24-03-2016 00:00           0.0     66954.0  07-04-2016 01:46  \n",
       "2  14-03-2016 00:00           0.0     90480.0  05-04-2016 12:47  \n",
       "3  17-03-2016 00:00           0.0     91074.0  17-03-2016 17:40  \n",
       "4  31-03-2016 00:00           0.0     60437.0  06-04-2016 10:17  "
      ]
     },
     "execution_count": 3,
     "metadata": {},
     "output_type": "execute_result"
    }
   ],
   "source": [
    "df.head()"
   ]
  },
  {
   "cell_type": "code",
   "execution_count": 4,
   "metadata": {},
   "outputs": [
    {
     "name": "stdout",
     "output_type": "stream",
     "text": [
      "<class 'pandas.core.frame.DataFrame'>\n",
      "RangeIndex: 371539 entries, 0 to 371538\n",
      "Data columns (total 20 columns):\n",
      " #   Column               Non-Null Count   Dtype  \n",
      "---  ------               --------------   -----  \n",
      " 0   dateCrawled          371539 non-null  object \n",
      " 1   name                 371539 non-null  object \n",
      " 2   seller               371538 non-null  object \n",
      " 3   offerType            371538 non-null  object \n",
      " 4   price                371538 non-null  float64\n",
      " 5   abtest               371538 non-null  object \n",
      " 6   vehicleType          333669 non-null  object \n",
      " 7   yearOfRegistration   371537 non-null  float64\n",
      " 8   gearbox              351329 non-null  object \n",
      " 9   powerPS              371538 non-null  float64\n",
      " 10  model                351054 non-null  object \n",
      " 11  kilometer            371538 non-null  object \n",
      " 12  monthOfRegistration  371537 non-null  float64\n",
      " 13  fuelType             338151 non-null  object \n",
      " 14  brand                371537 non-null  object \n",
      " 15  notRepairedDamage    299477 non-null  object \n",
      " 16  dateCreated          371537 non-null  object \n",
      " 17  nrOfPictures         371537 non-null  float64\n",
      " 18  postalCode           371537 non-null  float64\n",
      " 19  lastSeen             371537 non-null  object \n",
      "dtypes: float64(6), object(14)\n",
      "memory usage: 56.7+ MB\n"
     ]
    }
   ],
   "source": [
    "df.info()"
   ]
  },
  {
   "cell_type": "code",
   "execution_count": 5,
   "metadata": {},
   "outputs": [
    {
     "name": "stdout",
     "output_type": "stream",
     "text": [
      "privat        371534\n",
      "gewerblich         3\n",
      "golf               1\n",
      "Name: seller, dtype: int64\n",
      "Angebot    371525\n",
      "Gesuch         12\n",
      "150000          1\n",
      "Name: offerType, dtype: int64\n"
     ]
    }
   ],
   "source": [
    "print(df['seller'].value_counts())\n",
    "print(df['offerType'].value_counts())"
   ]
  },
  {
   "cell_type": "code",
   "execution_count": 6,
   "metadata": {},
   "outputs": [],
   "source": [
    "df.drop(columns=['seller','offerType','name','abtest','dateCrawled','nrOfPictures','lastSeen','postalCode','dateCreated'],inplace=True,axis=1)"
   ]
  },
  {
   "cell_type": "code",
   "execution_count": 7,
   "metadata": {},
   "outputs": [
    {
     "data": {
      "text/html": [
       "<div>\n",
       "<style scoped>\n",
       "    .dataframe tbody tr th:only-of-type {\n",
       "        vertical-align: middle;\n",
       "    }\n",
       "\n",
       "    .dataframe tbody tr th {\n",
       "        vertical-align: top;\n",
       "    }\n",
       "\n",
       "    .dataframe thead th {\n",
       "        text-align: right;\n",
       "    }\n",
       "</style>\n",
       "<table border=\"1\" class=\"dataframe\">\n",
       "  <thead>\n",
       "    <tr style=\"text-align: right;\">\n",
       "      <th></th>\n",
       "      <th>price</th>\n",
       "      <th>vehicleType</th>\n",
       "      <th>yearOfRegistration</th>\n",
       "      <th>gearbox</th>\n",
       "      <th>powerPS</th>\n",
       "      <th>model</th>\n",
       "      <th>kilometer</th>\n",
       "      <th>monthOfRegistration</th>\n",
       "      <th>fuelType</th>\n",
       "      <th>brand</th>\n",
       "      <th>notRepairedDamage</th>\n",
       "    </tr>\n",
       "  </thead>\n",
       "  <tbody>\n",
       "    <tr>\n",
       "      <th>0</th>\n",
       "      <td>480.0</td>\n",
       "      <td>NaN</td>\n",
       "      <td>1993.0</td>\n",
       "      <td>manuell</td>\n",
       "      <td>0.0</td>\n",
       "      <td>golf</td>\n",
       "      <td>150000</td>\n",
       "      <td>0.0</td>\n",
       "      <td>benzin</td>\n",
       "      <td>volkswagen</td>\n",
       "      <td>NaN</td>\n",
       "    </tr>\n",
       "    <tr>\n",
       "      <th>1</th>\n",
       "      <td>18300.0</td>\n",
       "      <td>coupe</td>\n",
       "      <td>2011.0</td>\n",
       "      <td>manuell</td>\n",
       "      <td>190.0</td>\n",
       "      <td>NaN</td>\n",
       "      <td>125000</td>\n",
       "      <td>5.0</td>\n",
       "      <td>diesel</td>\n",
       "      <td>audi</td>\n",
       "      <td>ja</td>\n",
       "    </tr>\n",
       "    <tr>\n",
       "      <th>2</th>\n",
       "      <td>9800.0</td>\n",
       "      <td>suv</td>\n",
       "      <td>2004.0</td>\n",
       "      <td>automatik</td>\n",
       "      <td>163.0</td>\n",
       "      <td>grand</td>\n",
       "      <td>125000</td>\n",
       "      <td>8.0</td>\n",
       "      <td>diesel</td>\n",
       "      <td>jeep</td>\n",
       "      <td>NaN</td>\n",
       "    </tr>\n",
       "    <tr>\n",
       "      <th>3</th>\n",
       "      <td>1500.0</td>\n",
       "      <td>kleinwagen</td>\n",
       "      <td>2001.0</td>\n",
       "      <td>manuell</td>\n",
       "      <td>75.0</td>\n",
       "      <td>golf</td>\n",
       "      <td>150000</td>\n",
       "      <td>6.0</td>\n",
       "      <td>benzin</td>\n",
       "      <td>volkswagen</td>\n",
       "      <td>nein</td>\n",
       "    </tr>\n",
       "    <tr>\n",
       "      <th>4</th>\n",
       "      <td>3600.0</td>\n",
       "      <td>kleinwagen</td>\n",
       "      <td>2008.0</td>\n",
       "      <td>manuell</td>\n",
       "      <td>69.0</td>\n",
       "      <td>fabia</td>\n",
       "      <td>90000</td>\n",
       "      <td>7.0</td>\n",
       "      <td>diesel</td>\n",
       "      <td>skoda</td>\n",
       "      <td>nein</td>\n",
       "    </tr>\n",
       "  </tbody>\n",
       "</table>\n",
       "</div>"
      ],
      "text/plain": [
       "     price vehicleType  yearOfRegistration    gearbox  powerPS  model  \\\n",
       "0    480.0         NaN              1993.0    manuell      0.0   golf   \n",
       "1  18300.0       coupe              2011.0    manuell    190.0    NaN   \n",
       "2   9800.0         suv              2004.0  automatik    163.0  grand   \n",
       "3   1500.0  kleinwagen              2001.0    manuell     75.0   golf   \n",
       "4   3600.0  kleinwagen              2008.0    manuell     69.0  fabia   \n",
       "\n",
       "  kilometer  monthOfRegistration fuelType       brand notRepairedDamage  \n",
       "0    150000                  0.0   benzin  volkswagen               NaN  \n",
       "1    125000                  5.0   diesel        audi                ja  \n",
       "2    125000                  8.0   diesel        jeep               NaN  \n",
       "3    150000                  6.0   benzin  volkswagen              nein  \n",
       "4     90000                  7.0   diesel       skoda              nein  "
      ]
     },
     "execution_count": 7,
     "metadata": {},
     "output_type": "execute_result"
    }
   ],
   "source": [
    "df.head()"
   ]
  },
  {
   "cell_type": "code",
   "execution_count": 8,
   "metadata": {},
   "outputs": [
    {
     "data": {
      "text/plain": [
       "(371539, 11)"
      ]
     },
     "execution_count": 8,
     "metadata": {},
     "output_type": "execute_result"
    }
   ],
   "source": [
    "df.shape"
   ]
  },
  {
   "cell_type": "code",
   "execution_count": 9,
   "metadata": {},
   "outputs": [],
   "source": [
    "df=df[(df['powerPS']>50) & (df['powerPS']<90)]"
   ]
  },
  {
   "cell_type": "code",
   "execution_count": 10,
   "metadata": {},
   "outputs": [],
   "source": [
    "df=df[(df['yearOfRegistration']>1949) & (df['yearOfRegistration']<2017)]\n",
    "df=df[(df['price']>=100) & (df['price']<=150000)]"
   ]
  },
  {
   "cell_type": "code",
   "execution_count": 11,
   "metadata": {},
   "outputs": [
    {
     "data": {
      "text/plain": [
       "(78684, 11)"
      ]
     },
     "execution_count": 11,
     "metadata": {},
     "output_type": "execute_result"
    }
   ],
   "source": [
    "df.shape"
   ]
  },
  {
   "cell_type": "code",
   "execution_count": 12,
   "metadata": {},
   "outputs": [
    {
     "data": {
      "text/plain": [
       "Index(['price', 'vehicleType', 'yearOfRegistration', 'gearbox', 'powerPS',\n",
       "       'model', 'kilometer', 'monthOfRegistration', 'fuelType', 'brand',\n",
       "       'notRepairedDamage'],\n",
       "      dtype='object')"
      ]
     },
     "execution_count": 12,
     "metadata": {},
     "output_type": "execute_result"
    }
   ],
   "source": [
    "df.columns"
   ]
  },
  {
   "cell_type": "code",
   "execution_count": 13,
   "metadata": {},
   "outputs": [],
   "source": [
    "new_df=df.copy()\n",
    "new_df=new_df.drop_duplicates(['price', 'vehicleType', 'yearOfRegistration', 'gearbox', 'powerPS','model', 'kilometer', 'monthOfRegistration', 'fuelType','brand','notRepairedDamage'])"
   ]
  },
  {
   "cell_type": "code",
   "execution_count": 14,
   "metadata": {},
   "outputs": [],
   "source": [
    "new_df['gearbox'].replace(('manuell','automatik'),('manual','automatic'),inplace=True)\n",
    "new_df['fuelType'].replace(('benzin','andere','elektro'),('petrol','others','electric'),inplace=True)\n",
    "new_df['vehicleType'].replace(('kleinwagen','cabrio','kombi','andere'),('small car','convertible','combination','others'),inplace=True)\n",
    "new_df['notRepairedDamage'].replace(('ja','nein'),('yes','no'),inplace=True)\n"
   ]
  },
  {
   "cell_type": "code",
   "execution_count": 15,
   "metadata": {},
   "outputs": [],
   "source": [
    "new_df.to_csv('autos_preprocessed.csv')"
   ]
  },
  {
   "cell_type": "code",
   "execution_count": 16,
   "metadata": {},
   "outputs": [],
   "source": [
    "labels=['gearbox','notRepairedDamage','model','brand','fuelType','vehicleType']"
   ]
  },
  {
   "cell_type": "code",
   "execution_count": 17,
   "metadata": {},
   "outputs": [
    {
     "name": "stdout",
     "output_type": "stream",
     "text": [
      "gearbox : LabelEncoder()\n",
      "notRepairedDamage : LabelEncoder()\n",
      "model : LabelEncoder()\n",
      "brand : LabelEncoder()\n",
      "fuelType : LabelEncoder()\n",
      "vehicleType : LabelEncoder()\n"
     ]
    }
   ],
   "source": [
    "dicti={}\n",
    "for feature in labels:\n",
    "    dicti[feature]=LabelEncoder()\n",
    "    dicti[feature].fit(new_df[feature])\n",
    "    temp=dicti[feature].transform(new_df[feature])\n",
    "    np.save(str('numpy_classes/classes'+feature+'.npy'),dicti[feature].classes_)\n",
    "    print(feature,':',dicti[feature])\n",
    "    new_df.loc[:,feature+'_Labels']=pd.Series(temp,index=new_df.index)\n",
    "labeled=new_df[['price','yearOfRegistration','powerPS','kilometer','monthOfRegistration']+[x+'_Labels' for x in labels]]\n"
   ]
  },
  {
   "cell_type": "code",
   "execution_count": 18,
   "metadata": {},
   "outputs": [
    {
     "data": {
      "text/plain": [
       "Index(['price', 'yearOfRegistration', 'powerPS', 'kilometer',\n",
       "       'monthOfRegistration', 'gearbox_Labels', 'notRepairedDamage_Labels',\n",
       "       'model_Labels', 'brand_Labels', 'fuelType_Labels',\n",
       "       'vehicleType_Labels'],\n",
       "      dtype='object')"
      ]
     },
     "execution_count": 18,
     "metadata": {},
     "output_type": "execute_result"
    }
   ],
   "source": [
    "labeled.columns"
   ]
  },
  {
   "cell_type": "code",
   "execution_count": 19,
   "metadata": {},
   "outputs": [],
   "source": [
    "X=labeled.iloc[:,1:].values\n",
    "Y=labeled.iloc[:,0].values"
   ]
  },
  {
   "cell_type": "code",
   "execution_count": 20,
   "metadata": {},
   "outputs": [],
   "source": [
    "Y=Y.reshape(-1,1)"
   ]
  },
  {
   "cell_type": "code",
   "execution_count": 21,
   "metadata": {},
   "outputs": [],
   "source": [
    "X_train,X_test,y_train,y_test=train_test_split(X,Y,test_size=.3)"
   ]
  },
  {
   "cell_type": "code",
   "execution_count": 22,
   "metadata": {},
   "outputs": [
    {
     "data": {
      "text/plain": [
       "RandomForestRegressor(max_depth=10, n_estimators=1000)"
      ]
     },
     "execution_count": 22,
     "metadata": {},
     "output_type": "execute_result"
    }
   ],
   "source": [
    "regressor=RandomForestRegressor(n_estimators=1000,max_depth=10)\n",
    "regressor.fit(X_train,np.ravel(y_train,order='C'))"
   ]
  },
  {
   "cell_type": "code",
   "execution_count": 23,
   "metadata": {},
   "outputs": [],
   "source": [
    "prediction=regressor.predict(X_test)"
   ]
  },
  {
   "cell_type": "code",
   "execution_count": 24,
   "metadata": {},
   "outputs": [
    {
     "data": {
      "text/plain": [
       "0.6791638252843117"
      ]
     },
     "execution_count": 24,
     "metadata": {},
     "output_type": "execute_result"
    }
   ],
   "source": [
    "r2_score(y_test,prediction)"
   ]
  },
  {
   "cell_type": "code",
   "execution_count": 25,
   "metadata": {},
   "outputs": [],
   "source": [
    "file='model.sav'\n",
    "pickle.dump(regressor,open(file,'wb'))"
   ]
  },
  {
   "cell_type": "code",
   "execution_count": null,
   "metadata": {},
   "outputs": [],
   "source": []
  }
 ],
 "metadata": {
  "kernelspec": {
   "display_name": "Python 3.7.9 64-bit (microsoft store)",
   "language": "python",
   "name": "python3"
  },
  "language_info": {
   "codemirror_mode": {
    "name": "ipython",
    "version": 3
   },
   "file_extension": ".py",
   "mimetype": "text/x-python",
   "name": "python",
   "nbconvert_exporter": "python",
   "pygments_lexer": "ipython3",
   "version": "3.7.9"
  },
  "orig_nbformat": 4,
  "vscode": {
   "interpreter": {
    "hash": "5c281380034c66f49fc0f160905ce1ed456c7ec93779c18f426e06d61a43b3a0"
   }
  }
 },
 "nbformat": 4,
 "nbformat_minor": 2
}
